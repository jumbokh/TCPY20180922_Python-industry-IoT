{
 "cells": [
  {
   "cell_type": "markdown",
   "metadata": {},
   "source": [
    "# Agenda\n",
    "\n",
    "- 工廠監控\n",
    "    - 為何用Python實作工廠監控的應用?\n",
    "\n",
    "    - 為何在工控應用中導入Python\n",
    "\n",
    "    - 今天的主軸：如何使用python套件和PLC、電表溝通的經驗應用分享\n",
    "\n",
    "\n",
    "- 工業4.0\n",
    "    - 這場演講和工業4.0的關係\n",
    "    - 何謂「工業4.0」 --> 維基百科\n",
    "    - 工廠監控流程\n",
    "    - Python在工業4.0中的角色\n",
    "\n",
    "\n",
    "- 工廠監控的現況\n",
    "    - SCADA + HMI + PLC + IO module\n",
    "    - HMI + PLC + IO module\n",
    "    - PLC + SCADA\n",
    "    - 喜歡自幹? 當然是自己開發囉!\n",
    "    - 為何SCADA這麼常出現?\n",
    "\n",
    "\n",
    "- Modbus\n",
    "    - 何謂Modbus?\n",
    "    - modbus格式介紹\n",
    "    - modbus常被採用的原因\n",
    "        \n",
    "- Modbus套件\n",
    "    - 可用的套件\n",
    "    - 安裝\n",
    "    - 操作\n",
    "\n",
    "- PLC\n",
    "    - 何謂PLC\n",
    "    - 如何通訊、控制\n",
    "    - 來看看PLC的Modbus點表\n",
    "    - Live Demo\n",
    "\n",
    "- Power Meter\n",
    "    - 何謂power meter\n",
    "    - 來看看Power Meter的點表\n",
    "    - Live Demo\n",
    "    \n",
    "- MQTT - 即時性應用\n",
    "    - Mosquitto\n",
    "    - paho\n",
    "    \n",
    "- Web API - 一般應用\n",
    "    - 自己做restful API + PostgreSQL\n",
    "    - firebase\n",
    "    - thingspeak\n",
    "\n",
    "- The End!?\n",
    " \n",
    "- Q&A\n",
    "\n",
    "----\n"
   ]
  },
  {
   "cell_type": "markdown",
   "metadata": {},
   "source": [
    "## 工廠監控\n",
    "\n",
    "----\n"
   ]
  },
  {
   "cell_type": "markdown",
   "metadata": {},
   "source": [
    "### 為何用Python實作工廠監控的應用\n",
    "\n",
    "- 因為PyCon之前不大有這樣的主題\n",
    "\n",
    "- 因為很少在工廠監控看到Python的身影\n"
   ]
  },
  {
   "cell_type": "markdown",
   "metadata": {},
   "source": [
    "### 為何在工控應用中導入Python\n",
    "\n",
    "- 因為工作上需做的產品會從linux kernel, driver, fs porting，一直到firmware撰寫，script，網頁設定頁面的開發。\n",
    "\n",
    "- C + bash   + C      + PHP    + html + javascript\n",
    "\n",
    "- C + python + python + python + html + javascript + CSS\n",
    "\n",
    "- 有時進一步還要開發Server端的程式，處理資料庫…等事項\n"
   ]
  },
  {
   "cell_type": "markdown",
   "metadata": {},
   "source": [
    "### 今天的主軸：如何使用python套件和PLC、電表溝通的經驗應用分享\n",
    "    \n",
    "- ![PLC_Meter](image/plc_meter.png)"
   ]
  },
  {
   "cell_type": "markdown",
   "metadata": {},
   "source": [
    "## 先來看看我們使用Python可以達到的效果\n",
    "\n",
    "- show 電力監控的趨勢demo\n",
    "\n",
    "- show 環境監控的demo (單台、多台)\n"
   ]
  },
  {
   "cell_type": "markdown",
   "metadata": {},
   "source": [
    "----\n",
    "\n",
    "## 工業4.0\n",
    "\n",
    "- 來談談和工業4.0的關係\n",
    "\n",
    "***(總是要畫點胡爛…)\n",
    "\n",
    "----"
   ]
  },
  {
   "cell_type": "markdown",
   "metadata": {},
   "source": [
    "### 維基百科怎麼說?\n",
    "\n",
    "4.0目標與以前不同，並不是單單創造新的工業技術，而是著重在將現有的工業相關的技術、銷售與產品體驗統合起來，是建立具有：<h4>適應性、資源效率和人因工程學的智慧型工廠</h4>\n"
   ]
  },
  {
   "cell_type": "markdown",
   "metadata": {},
   "source": [
    "![工業4.0](image/Industry_4.0.png)\n",
    "\n",
    "- 水力 --> 電力 --> 資訊力 --> ?\n"
   ]
  },
  {
   "cell_type": "markdown",
   "metadata": {},
   "source": [
    "### 工廠監控流程\n",
    "\n",
    "![工廠監控流程](image/監控流程.png)\n"
   ]
  },
  {
   "cell_type": "markdown",
   "metadata": {},
   "source": [
    "- 「自動化」：感測器 + 控制器\n",
    "\n",
    "- 「監控」：感測器 + 控制器 + Server\n",
    "\n",
    "- 「生產履歷」：感測器 + 控制器 + Server + 資料視覺化\n",
    "\n",
    "- 「智慧生產」：感測器 + 控制器 + Server + (資料視覺化) + 資料分析 + 自我調整\n"
   ]
  },
  {
   "cell_type": "markdown",
   "metadata": {},
   "source": [
    "### Python在工業4.0中的角色\n",
    "\n",
    "- 最常聽到的應用：「Big Data」、「資料視覺化」、「數據分析」\n",
    "\n",
    "- ![監控流程2](image/監控流程2.png)\n",
    "\n",
    "- 控制器? 資料收集器? , Python當然也可以勝任!\n"
   ]
  },
  {
   "cell_type": "markdown",
   "metadata": {},
   "source": [
    "----\n",
    "\n",
    "## 工廠監控的現況\n",
    "\n",
    "看看大家現在怎麼做…\n",
    "\n",
    "----"
   ]
  },
  {
   "cell_type": "markdown",
   "metadata": {},
   "source": [
    "\n",
    "### 很常見的方式\n",
    "\n",
    "- SCADA + HMI + PLC + IO module\n",
    "\n",
    "- PLC + SCADA\n",
    "\n",
    "### 系統小一點的話\n",
    "\n",
    "- HMI + PLC + IO module\n",
    "\n",
    "\n",
    "### 喜歡自幹?\n",
    "\n",
    "- 當然是自己開發囉! VB.Net, C#, C 各種語言不拘!\n",
    "\n",
    "### 為何SCADA這麼常出現?\n",
    "\n",
    "- 因為工業控制需要快速又穩定的RAD工具，讓每個人都能做出一定水準之上的系統\n",
    "\n",
    "![Scada_std_anim_no_lang](image/Scada_std_anim_no_lang.gif)\n"
   ]
  },
  {
   "cell_type": "markdown",
   "metadata": {},
   "source": [
    "----\n",
    "\n",
    "## Modbus\n",
    "\n",
    "一個工業控制一定不能錯過的協定\n",
    "\n",
    "----\n"
   ]
  },
  {
   "cell_type": "markdown",
   "metadata": {},
   "source": [
    "### 何謂 Modbus?\n",
    "\n",
    "一種工業控制中很常用的通訊協定\n",
    "\n",
    "- [維基百科怎麼說](https://zh.wikipedia.org/wiki/Modbus)?\n",
    "\n",
    "- 為何介紹Modbus\n",
    "\n",
    "![協定文字雲](image/Word Art 2.png)\n",
    "       "
   ]
  },
  {
   "cell_type": "markdown",
   "metadata": {},
   "source": [
    "### modbus格式介紹 \n",
    "\n",
    "[參考](http://gridconnect.com/blog/tag/modbus-rtu/)\n",
    "\n",
    "- Modbus/RTU: [start time] [Address 8bits + Function 8bits + Data Nx8bits + CRC 16bits] [End time]\n",
    "\n",
    "- Modbus/TCP: [header 6byte + Address 8bits + Function 8bits + Data Nx8bits]\n",
    "\n",
    "- Modbus/ASCII: 現在比較少人用，跳過不講\n",
    "\n",
    "![格式](image/MODBUS-Frame.png)\n",
    "        \n"
   ]
  },
  {
   "cell_type": "markdown",
   "metadata": {},
   "source": [
    "### modbus常被採用的原因\n",
    "        \n",
    "- 公開發表並且無版稅要求\n",
    "\n",
    "- 相對容易的工業網路部署\n",
    "\n",
    "- 協定格式簡單，極省資源\n"
   ]
  },
  {
   "cell_type": "markdown",
   "metadata": {},
   "source": [
    "----\n",
    "\n",
    "## Modbus套件\n",
    "\n",
    "----\n"
   ]
  },
  {
   "cell_type": "markdown",
   "metadata": {},
   "source": [
    "\n",
    "### 網路上較多人提到的三個套件\n",
    "\n",
    "[performance比較](https://stackoverflow.com/questions/17081442/python-modbus-library)\n",
    "\n",
    "- modbus-tk: Modbus/RTU, Modbus/TCP\n",
    "\n",
    "- pymodbus: 據說實作最完整，但使用資源相對的多，相依套件也多\n",
    "\n",
    "- MinimalModbus: Modbus/RTU, Modbus/ASCII\n",
    "\n"
   ]
  },
  {
   "cell_type": "markdown",
   "metadata": {},
   "source": [
    "### Modbus-tk\n",
    "\n",
    "個人推薦使用\n",
    "\n",
    "- 安裝方式\n",
    "    - pip install serial\n",
    "    - pip install modbus_tk\n",
    "\n",
    "- 操作\n",
    "    - [Python與PLC共舞](https://github.com/maloyang/PLC-Python)\n",
    "     "
   ]
  },
  {
   "cell_type": "markdown",
   "metadata": {},
   "source": [
    "# 應該快睡著了…\n",
    "\n",
    "## 先來秀一下程式動起來的效果吧\n"
   ]
  },
  {
   "cell_type": "markdown",
   "metadata": {},
   "source": [
    "----\n",
    "\n",
    "## PLC\n",
    "\n",
    "工業控制常用的元素，[看看wiki怎麼說](https://zh.wikipedia.org/wiki/%E5%8F%AF%E7%BC%96%E7%A8%8B%E9%80%BB%E8%BE%91%E6%8E%A7%E5%88%B6%E5%99%A8)\n",
    "\n",
    "----\n"
   ]
  },
  {
   "cell_type": "markdown",
   "metadata": {},
   "source": [
    "\n",
    "### 通訊方式\n",
    "\n",
    "- 自有協定\n",
    "\n",
    "- <h3>Modbus</h3>\n",
    "\n",
    "- CAN\n",
    "\n",
    "- ...etc\n"
   ]
  },
  {
   "cell_type": "markdown",
   "metadata": {},
   "source": [
    "### PLC的Modbus點表\n",
    "\n",
    "![PLC點表](image/fatek_modbus_addr.png)\n",
    "\n",
    "- [Live Demo](Modbus.ipynb)"
   ]
  },
  {
   "cell_type": "code",
   "execution_count": 2,
   "metadata": {},
   "outputs": [],
   "source": [
    "import serial\n",
    "import modbus_tk\n",
    "import modbus_tk.defines as cst\n",
    "import modbus_tk.modbus_rtu as modbus_rtu\n",
    "import time\n"
   ]
  },
  {
   "cell_type": "code",
   "execution_count": 3,
   "metadata": {},
   "outputs": [],
   "source": [
    "mbComPort = 'COM5'   # your RS-485 port. for linux --> \"/dev/ttyUSB2\"\n",
    "baudrate = 9600\n",
    "databit = 8 #7, 8\n",
    "parity = 'N' #N, O, E\n",
    "stopbit = 1 #1, 2\n",
    "mbTimeout = 100 # ms\n"
   ]
  },
  {
   "cell_type": "code",
   "execution_count": 4,
   "metadata": {},
   "outputs": [
    {
     "name": "stdout",
     "output_type": "stream",
     "text": [
      "Write(addr, value)= (2, 0)\n",
      "Write(addr, value)= (2, 65280)\n",
      "Write(addr, value)= (2, 0)\n",
      "Write(addr, value)= (2, 65280)\n",
      "Write(addr, value)= (2, 0)\n"
     ]
    },
    {
     "data": {
      "text/plain": [
       "True"
      ]
     },
     "execution_count": 4,
     "metadata": {},
     "output_type": "execute_result"
    }
   ],
   "source": [
    "\n",
    "mb_port = serial.Serial(port=mbComPort, baudrate=baudrate, bytesize=databit, parity=parity, stopbits=stopbit)\n",
    "master = modbus_rtu.RtuMaster(mb_port)\n",
    "master.set_timeout(mbTimeout/1000.0)\n",
    "\n",
    "mbId = 1\n",
    "addr = 2 #base0 --> my 110V Led燈泡\n",
    "\n",
    "for i in range(5):\n",
    "    try:\n",
    "        value = i%2\n",
    "        #-- FC5: write multi-coils\n",
    "        rr = master.execute(mbId, cst.WRITE_SINGLE_COIL, addr, output_value=value)\n",
    "        print(\"Write(addr, value)=\",  rr)\n",
    "\n",
    "    except Exception as e:\n",
    "        print(\"modbus test Error: \" + str(e))\n",
    "\n",
    "    time.sleep(2)\n",
    "\n",
    "master._do_close()\n"
   ]
  },
  {
   "cell_type": "markdown",
   "metadata": {},
   "source": [
    "----\n",
    "\n",
    "## Power Meter\n",
    "\n",
    "電力監控常見的元素\n",
    "\n",
    "----\n"
   ]
  },
  {
   "cell_type": "markdown",
   "metadata": {},
   "source": [
    "\n",
    "### Power Meter的點表\n",
    "\n",
    "![Power Meter的點表](image/power_meter.gif)\n",
    "\n"
   ]
  },
  {
   "cell_type": "markdown",
   "metadata": {},
   "source": [
    "### Power Meter的浮點數表示方式\n",
    "\n",
    "![浮點數](image/power_meter_float.gif)\n",
    "\n",
    "----\n",
    "![float](image/mb_float.png)\n",
    "- [Live Demo](Modbus.ipynb)\n"
   ]
  },
  {
   "cell_type": "code",
   "execution_count": 6,
   "metadata": {},
   "outputs": [],
   "source": [
    "import serial\n",
    "import modbus_tk\n",
    "import modbus_tk.defines as cst\n",
    "import modbus_tk.modbus_rtu as modbus_rtu\n",
    "import time\n",
    "from struct import *"
   ]
  },
  {
   "cell_type": "code",
   "execution_count": 7,
   "metadata": {},
   "outputs": [],
   "source": [
    "mbComPort = 'COM5' #your RS-485 port\n",
    "baudrate = 19200\n",
    "databit = 8\n",
    "parity = 'N'\n",
    "stopbit = 1\n",
    "mbTimeout = 100 # ms"
   ]
  },
  {
   "cell_type": "code",
   "execution_count": 17,
   "metadata": {},
   "outputs": [
    {
     "data": {
      "text/plain": [
       "4128"
      ]
     },
     "execution_count": 17,
     "metadata": {},
     "output_type": "execute_result"
    }
   ],
   "source": [
    "0x1020"
   ]
  },
  {
   "cell_type": "code",
   "execution_count": 18,
   "metadata": {},
   "outputs": [
    {
     "name": "stdout",
     "output_type": "stream",
     "text": [
      "read value: (39322, 17120)\n",
      "v_a= (112.30000305175781,)\n"
     ]
    },
    {
     "data": {
      "text/plain": [
       "True"
      ]
     },
     "execution_count": 18,
     "metadata": {},
     "output_type": "execute_result"
    }
   ],
   "source": [
    "mb_port = serial.Serial(port=mbComPort, baudrate=baudrate, bytesize=databit, parity=parity, stopbits=stopbit)\n",
    "master = modbus_rtu.RtuMaster(mb_port)\n",
    "master.set_timeout(mbTimeout/1000.0)\n",
    "\n",
    "mbId = 4\n",
    "addr = 0x1000\n",
    "\n",
    "try:\n",
    "    # FC3\n",
    "    rr = master.execute(mbId, cst.READ_INPUT_REGISTERS, addr, 2)\n",
    "    print('read value:', rr)\n",
    "\n",
    "    # convert to float:\n",
    "    # IEEE754 ==> (Hi word Hi Bite, Hi word Lo Byte, Lo word Hi Byte, Lo word Lo Byte)\n",
    "    try:\n",
    "        v_a_hi = rr[1]\n",
    "        v_a_lo = rr[0]\n",
    "        v_a = unpack('>f', pack('>HH', v_a_hi, v_a_lo))\n",
    "        print('v_a=', v_a)\n",
    "        #struct.unpack(\">f\",'\\x42\\xd8\\x6b\\x8d')\n",
    "    except Exception as e:\n",
    "        print(e)\n",
    "\n",
    "except Exception as e:\n",
    "    print(\"modbus test Error: \" + str(e))\n",
    "\n",
    "\n",
    "master._do_close()\n"
   ]
  },
  {
   "cell_type": "code",
   "execution_count": 22,
   "metadata": {},
   "outputs": [
    {
     "data": {
      "text/plain": [
       "4128"
      ]
     },
     "execution_count": 22,
     "metadata": {},
     "output_type": "execute_result"
    }
   ],
   "source": [
    "0x1020"
   ]
  },
  {
   "cell_type": "code",
   "execution_count": 25,
   "metadata": {},
   "outputs": [
    {
     "name": "stdout",
     "output_type": "stream",
     "text": [
      "read value: (41779, 17663)\n",
      "kWh= (2045.0999755859375,)\n"
     ]
    },
    {
     "data": {
      "text/plain": [
       "True"
      ]
     },
     "execution_count": 25,
     "metadata": {},
     "output_type": "execute_result"
    }
   ],
   "source": [
    "mb_port = serial.Serial(port=mbComPort, baudrate=baudrate, bytesize=databit, parity=parity, stopbits=stopbit)\n",
    "master = modbus_rtu.RtuMaster(mb_port)\n",
    "master.set_timeout(mbTimeout/1000.0)\n",
    "\n",
    "mbId = 4\n",
    "addr = 4127#0x1020 #kWh\n",
    "\n",
    "try:\n",
    "    # FC3\n",
    "    rr = master.execute(mbId, cst.READ_INPUT_REGISTERS, addr, 2)\n",
    "    print('read value:', rr)\n",
    "\n",
    "    # convert to float:\n",
    "    # IEEE754 ==> (Hi word Hi Bite, Hi word Lo Byte, Lo word Hi Byte, Lo word Lo Byte)\n",
    "    try:\n",
    "        hi = rr[1]\n",
    "        lo = rr[0]\n",
    "        kwh = unpack('>f', pack('>HH', hi, lo))\n",
    "        print('kWh=', kwh)\n",
    "    except Exception as e:\n",
    "        print(e)\n",
    "\n",
    "except Exception as e:\n",
    "    print(\"modbus test Error: \" + str(e))\n",
    "\n",
    "\n",
    "master._do_close()\n"
   ]
  },
  {
   "cell_type": "code",
   "execution_count": 27,
   "metadata": {},
   "outputs": [
    {
     "name": "stdout",
     "output_type": "stream",
     "text": [
      "read value: (39658, 17131, 0, 0, 0, 0, 39658, 17131, 0, 0, 0, 0, 0, 0, 0, 0, 0, 0, 0, 0, 0, 0, 0, 0, 19100, 17008)\n",
      "v_a= (117.80256652832031,)\n",
      "v_avg= (117.80256652832031,)\n",
      "Frequency= (60.07286071777344,)\n"
     ]
    },
    {
     "data": {
      "text/plain": [
       "True"
      ]
     },
     "execution_count": 27,
     "metadata": {},
     "output_type": "execute_result"
    }
   ],
   "source": [
    "mb_port = serial.Serial(port=mbComPort, baudrate=baudrate, bytesize=databit, parity=parity, stopbits=stopbit)\n",
    "master = modbus_rtu.RtuMaster(mb_port)\n",
    "master.set_timeout(mbTimeout/1000.0)\n",
    "\n",
    "mbId = 4\n",
    "#[0x1000-0x1001]=VIn_a\n",
    "addr = 0x1000#4096\n",
    "\n",
    "try:\n",
    "    # FC3\n",
    "    rr = master.execute(mbId, cst.READ_INPUT_REGISTERS, addr, 26)\n",
    "    print('read value:', rr)\n",
    "\n",
    "    # convert to float:\n",
    "    # IEEE754 ==> (Hi word Hi Bite, Hi word Lo Byte, Lo word Hi Byte, Lo word Lo Byte)\n",
    "    try:\n",
    "        # VIn_a\n",
    "        v_a_hi = rr[1]\n",
    "        v_a_lo = rr[0]\n",
    "        v_a = unpack('>f', pack('>HH', v_a_hi, v_a_lo))\n",
    "        print('v_a=', v_a)\n",
    "        #struct.unpack(\">f\",'\\x42\\xd8\\x6b\\x8d')\n",
    "        \n",
    "        # VIn_avg\n",
    "        v_hi = rr[7]\n",
    "        v_lo = rr[6]\n",
    "        v_avg = unpack('>f', pack('>HH', v_hi, v_lo))\n",
    "        print('v_avg=', v_avg)\n",
    "        \n",
    "        # Frequency\n",
    "        freq_hi = rr[25]\n",
    "        freq_lo = rr[24]\n",
    "        freq = unpack('>f', pack('>HH', freq_hi, freq_lo))\n",
    "        print('Frequency=', freq)\n",
    "        \n",
    "    except Exception as e:\n",
    "        print(e)\n",
    "\n",
    "except Exception as e:\n",
    "    print(\"modbus test Error: \" + str(e))\n",
    "\n",
    "\n",
    "master._do_close()\n"
   ]
  },
  {
   "cell_type": "markdown",
   "metadata": {},
   "source": [
    "----\n",
    "\n",
    "## MQTT - 即時性應用\n",
    "\n",
    "已經可以採集資料了，來談談怎麼上傳雲端吧\n",
    "\n",
    "----\n"
   ]
  },
  {
   "cell_type": "markdown",
   "metadata": {},
   "source": [
    "### Mosquitto\n",
    "\n",
    "一個broker套件，當然也可以做為client使用\n",
    "\n",
    "- 以NB X260來說，4000多個連結沒有問題\n",
    "\n",
    "![Mosquitto](image/Eclipse-Mosquitto-logo.png)\n"
   ]
  },
  {
   "cell_type": "markdown",
   "metadata": {},
   "source": [
    "### paho\n",
    "\n",
    "便利的MQTT client端套件\n",
    "\n",
    "- [link](https://pypi.org/project/paho-mqtt/)\n",
    "- install: `pip install paho-mqtt`\n",
    "\n",
    "![paho](image/mqtt-paho-featured-image.jpg)\n"
   ]
  },
  {
   "cell_type": "markdown",
   "metadata": {},
   "source": [
    "### live demo\n",
    "\n",
    "- 以先架好的rpi3控制PLC為例\n"
   ]
  },
  {
   "cell_type": "code",
   "execution_count": 29,
   "metadata": {},
   "outputs": [
    {
     "name": "stdout",
     "output_type": "stream",
     "text": [
      "Connected flags{'session present': 0}, result code 0, client_id  <paho.mqtt.client.Client object at 0x0000000004ED3A90>\n",
      "set light off!\n",
      "Write(addr, value)=(2, 0)\n",
      "message received   1 malo-iot/light 0 1\n",
      "set light:  1\n",
      "Write(addr, value)=(2, 65280)\n",
      "message received   0 malo-iot/light 0 0\n",
      "set light:  0\n",
      "Write(addr, value)=(2, 0)\n",
      "message received   1 malo-iot/light 0 0\n",
      "set light:  1\n",
      "Write(addr, value)=(2, 65280)\n",
      "message received   0 malo-iot/light 0 0\n",
      "set light:  0\n",
      "Write(addr, value)=(2, 0)\n",
      "message received   1 malo-iot/light 0 0\n",
      "set light:  1\n",
      "Write(addr, value)=(2, 65280)\n",
      "message received   0 malo-iot/light 0 0\n",
      "set light:  0\n",
      "Write(addr, value)=(2, 0)\n",
      "message received   1 malo-iot/light 0 0\n",
      "set light:  1\n",
      "Write(addr, value)=(2, 65280)\n"
     ]
    },
    {
     "ename": "KeyboardInterrupt",
     "evalue": "",
     "output_type": "error",
     "traceback": [
      "\u001b[1;31m---------------------------------------------------------------------------\u001b[0m",
      "\u001b[1;31mKeyboardInterrupt\u001b[0m                         Traceback (most recent call last)",
      "\u001b[1;32m<ipython-input-29-36234d05dcac>\u001b[0m in \u001b[0;36m<module>\u001b[1;34m()\u001b[0m\n\u001b[0;32m     72\u001b[0m \u001b[0mclient1\u001b[0m\u001b[1;33m.\u001b[0m\u001b[0msubscribe\u001b[0m\u001b[1;33m(\u001b[0m\u001b[0mtopic\u001b[0m\u001b[1;33m)\u001b[0m\u001b[1;33m\u001b[0m\u001b[0m\n\u001b[0;32m     73\u001b[0m \u001b[1;33m\u001b[0m\u001b[0m\n\u001b[1;32m---> 74\u001b[1;33m \u001b[0mclient1\u001b[0m\u001b[1;33m.\u001b[0m\u001b[0mloop_forever\u001b[0m\u001b[1;33m(\u001b[0m\u001b[1;33m)\u001b[0m\u001b[1;33m\u001b[0m\u001b[0m\n\u001b[0m",
      "\u001b[1;32m~\\Anaconda3\\lib\\site-packages\\paho\\mqtt\\client.py\u001b[0m in \u001b[0;36mloop_forever\u001b[1;34m(self, timeout, max_packets, retry_first_connection)\u001b[0m\n\u001b[0;32m   1576\u001b[0m             \u001b[0mrc\u001b[0m \u001b[1;33m=\u001b[0m \u001b[0mMQTT_ERR_SUCCESS\u001b[0m\u001b[1;33m\u001b[0m\u001b[0m\n\u001b[0;32m   1577\u001b[0m             \u001b[1;32mwhile\u001b[0m \u001b[0mrc\u001b[0m \u001b[1;33m==\u001b[0m \u001b[0mMQTT_ERR_SUCCESS\u001b[0m\u001b[1;33m:\u001b[0m\u001b[1;33m\u001b[0m\u001b[0m\n\u001b[1;32m-> 1578\u001b[1;33m                 \u001b[0mrc\u001b[0m \u001b[1;33m=\u001b[0m \u001b[0mself\u001b[0m\u001b[1;33m.\u001b[0m\u001b[0mloop\u001b[0m\u001b[1;33m(\u001b[0m\u001b[0mtimeout\u001b[0m\u001b[1;33m,\u001b[0m \u001b[0mmax_packets\u001b[0m\u001b[1;33m)\u001b[0m\u001b[1;33m\u001b[0m\u001b[0m\n\u001b[0m\u001b[0;32m   1579\u001b[0m                 \u001b[1;31m# We don't need to worry about locking here, because we've\u001b[0m\u001b[1;33m\u001b[0m\u001b[1;33m\u001b[0m\u001b[0m\n\u001b[0;32m   1580\u001b[0m                 \u001b[1;31m# either called loop_forever() when in single threaded mode, or\u001b[0m\u001b[1;33m\u001b[0m\u001b[1;33m\u001b[0m\u001b[0m\n",
      "\u001b[1;32m~\\Anaconda3\\lib\\site-packages\\paho\\mqtt\\client.py\u001b[0m in \u001b[0;36mloop\u001b[1;34m(self, timeout, max_packets)\u001b[0m\n\u001b[0;32m   1055\u001b[0m         \u001b[0mrlist\u001b[0m \u001b[1;33m=\u001b[0m \u001b[1;33m[\u001b[0m\u001b[0mself\u001b[0m\u001b[1;33m.\u001b[0m\u001b[0m_sock\u001b[0m\u001b[1;33m,\u001b[0m \u001b[0mself\u001b[0m\u001b[1;33m.\u001b[0m\u001b[0m_sockpairR\u001b[0m\u001b[1;33m]\u001b[0m\u001b[1;33m\u001b[0m\u001b[0m\n\u001b[0;32m   1056\u001b[0m         \u001b[1;32mtry\u001b[0m\u001b[1;33m:\u001b[0m\u001b[1;33m\u001b[0m\u001b[0m\n\u001b[1;32m-> 1057\u001b[1;33m             \u001b[0msocklist\u001b[0m \u001b[1;33m=\u001b[0m \u001b[0mselect\u001b[0m\u001b[1;33m.\u001b[0m\u001b[0mselect\u001b[0m\u001b[1;33m(\u001b[0m\u001b[0mrlist\u001b[0m\u001b[1;33m,\u001b[0m \u001b[0mwlist\u001b[0m\u001b[1;33m,\u001b[0m \u001b[1;33m[\u001b[0m\u001b[1;33m]\u001b[0m\u001b[1;33m,\u001b[0m \u001b[0mtimeout\u001b[0m\u001b[1;33m)\u001b[0m\u001b[1;33m\u001b[0m\u001b[0m\n\u001b[0m\u001b[0;32m   1058\u001b[0m         \u001b[1;32mexcept\u001b[0m \u001b[0mTypeError\u001b[0m\u001b[1;33m:\u001b[0m\u001b[1;33m\u001b[0m\u001b[0m\n\u001b[0;32m   1059\u001b[0m             \u001b[1;31m# Socket isn't correct type, in likelihood connection is lost\u001b[0m\u001b[1;33m\u001b[0m\u001b[1;33m\u001b[0m\u001b[0m\n",
      "\u001b[1;31mKeyboardInterrupt\u001b[0m: "
     ]
    }
   ],
   "source": [
    "import paho.mqtt.client as mqtt  #import the client1\n",
    "import time\n",
    "\n",
    "import serial\n",
    "import modbus_tk\n",
    "import modbus_tk.defines as cst\n",
    "import modbus_tk.modbus_rtu as modbus_rtu\n",
    "import time\n",
    "\n",
    "mbComPort = 'COM5'\n",
    "baudrate = 9600\n",
    "databit = 8\n",
    "parity = 'N'\n",
    "stopbit = 1\n",
    "mbTimeout = 100 # ms\n",
    "\n",
    "def on_connect(client, userdata, flags, rc):\n",
    "    m=\"Connected flags\"+str(flags)+\", result code \"+str(rc)+\", client_id  \"+str(client)\n",
    "    print(m)\n",
    "\n",
    "    # first value OFF\n",
    "    print('set light off!')\n",
    "    control_light(0)\n",
    "    client1.publish(topic,0)    \n",
    "\n",
    "def on_message(client1, userdata, message):\n",
    "    print(\"message received  \"  ,str(message.payload.decode(\"utf-8\")), message.topic, message.qos, message.retain)\n",
    "    if message.topic == topic:\n",
    "        my_message = str(message.payload.decode(\"utf-8\"))\n",
    "        print(\"set light: \", my_message)\n",
    "        if my_message=='1' or my_message==1:\n",
    "            control_light(1)\n",
    "        else:\n",
    "            control_light(0)\n",
    "\n",
    "def on_log(client, userdata, level, buf):\n",
    "    print(\"log: \",buf)\n",
    "\n",
    "def control_light(value):\n",
    "    mb_port = serial.Serial(port=mbComPort, baudrate=baudrate, bytesize=databit, parity=parity, stopbits=stopbit)\n",
    "    master = modbus_rtu.RtuMaster(mb_port)\n",
    "    master.set_timeout(mbTimeout/1000.0)\n",
    "\n",
    "    mbId = 1\n",
    "    addr = 2 #base0\n",
    "\n",
    "    try:\n",
    "        #-- FC5: write multi-coils\n",
    "        rr = master.execute(mbId, cst.WRITE_SINGLE_COIL, addr, output_value=value)\n",
    "        print(\"Write(addr, value)=%s\" %(str(rr)))\n",
    "\n",
    "    except Exception as e:#except Exception, e:\n",
    "        print(\"modbus test Error: \" + str(e))\n",
    "\n",
    "    master._do_close()\n",
    "\n",
    "\n",
    "# some online free broker:\n",
    "#   iot.eclipse.org\n",
    "#   test.mosquitto.org\n",
    "#   broker.hivemq.com\n",
    "broker_address=\"iot.eclipse.org\"\n",
    "topic = \"malo-iot/light\"\n",
    "client1 = mqtt.Client()    #create new instance\n",
    "client1.on_connect = on_connect        #attach function to callback\n",
    "client1.on_message = on_message        #attach function to callback\n",
    "#client1.on_log=on_log\n",
    "\n",
    "time.sleep(1)\n",
    "client1.connect(\"iot.eclipse.org\", 1883, 60)      #connect to broker\n",
    "#client1.loop_start()    #start the loop\n",
    "client1.subscribe(topic)\n",
    "\n",
    "client1.loop_forever()"
   ]
  },
  {
   "cell_type": "markdown",
   "metadata": {},
   "source": [
    "----\n",
    "\n",
    "## Web API\n",
    "\n",
    "適合非即時性的應用\n",
    "\n",
    "----\n"
   ]
  },
  {
   "cell_type": "markdown",
   "metadata": {},
   "source": [
    "### 自己做restful API + PostgreSQL\n",
    "\n",
    "### firebase\n",
    "    \n",
    "- 上傳時一個Json帶入所有點位\n",
    "\n",
    "- 顯示資料時可一次一個點位處理\n",
    "\n",
    "- 改寫輸出值時一次一個點位更是方便\n",
    "\n",
    "### ThingSpeak\n",
    "\n",
    "- 上傳資料自動畫成趨勢圖\n"
   ]
  },
  {
   "cell_type": "markdown",
   "metadata": {},
   "source": [
    "----\n",
    "\n",
    "### 運用Firebase收集資料\n",
    "\n",
    "[demo](Firebase.ipynb): 要新增一個firebase的點，做台中.py課程臨時上傳用\n",
    "\n",
    "- firebase 套件安裝\n",
    "    - [link](https://pypi.org/project/python-firebase/)\n",
    "    - pip install python-firebase\n",
    "    \n",
    "- 不用套件的用法\n",
    "\n",
    "----\n"
   ]
  },
  {
   "cell_type": "code",
   "execution_count": 32,
   "metadata": {},
   "outputs": [],
   "source": [
    "tag_name = '/tag_1'"
   ]
  },
  {
   "cell_type": "code",
   "execution_count": 33,
   "metadata": {},
   "outputs": [
    {
     "name": "stdout",
     "output_type": "stream",
     "text": [
      "post result= {'name': '-LMU_BZ1J_uRpzAEM9YU'}\n",
      "put result= {'data': {'H': 65, 'T': 25}, 'time': '2018-09-16 07:33:15'}\n"
     ]
    }
   ],
   "source": [
    "from firebase import firebase\n",
    "import time\n",
    "\n",
    "my_firebase = firebase.FirebaseApplication('https://fire-test-c46d1.firebaseio.com', None)\n",
    "\n",
    "my_time = time.strftime(\"%Y-%m-%d %H:%M:%S\")\n",
    "my_data = {'data': {'T': 25, 'H': 65}, 'time': my_time}\n",
    "result = my_firebase.post(tag_name+'/log', my_data)\n",
    "print('post result=', result)\n",
    "\n",
    "result = my_firebase.put('', '/'+tag_name+'/rt', my_data)\n",
    "print('put result=', result)\n"
   ]
  },
  {
   "cell_type": "markdown",
   "metadata": {},
   "source": [
    "- 看一下：https://fire-test-c46d1.firebaseio.com/.json"
   ]
  },
  {
   "cell_type": "code",
   "execution_count": 34,
   "metadata": {},
   "outputs": [
    {
     "data": {
      "text/plain": [
       "{'log': {'-LDic7Lo0jM-7xWZQ2wi': {'data': {'H': 65, 'T': 25},\n",
       "   'time': '2018-05-30 09:19:01'},\n",
       "  '-LDicHqB-cxZ-kZwgaEL': {'data': {'H': 65, 'T': 25},\n",
       "   'time': '2018-05-30 09:19:44'},\n",
       "  '-LDicYZt4E4sfXKA6kBG': {'data': {'H': 65, 'T': 25},\n",
       "   'time': '2018-05-30 09:20:53'},\n",
       "  '-LMU_BZ1J_uRpzAEM9YU': {'data': {'H': 65, 'T': 25},\n",
       "   'time': '2018-09-16 07:33:15'}},\n",
       " 'rt': {'data': {'H': 65, 'T': 25}, 'time': '2018-09-16 07:33:15'}}"
      ]
     },
     "execution_count": 34,
     "metadata": {},
     "output_type": "execute_result"
    }
   ],
   "source": [
    "from firebase import firebase\n",
    "import time\n",
    "\n",
    "my_firebase = firebase.FirebaseApplication('https://fire-test-c46d1.firebaseio.com', None)\n",
    "\n",
    "result = my_firebase.get(tag_name, None)\n",
    "result"
   ]
  },
  {
   "cell_type": "markdown",
   "metadata": {},
   "source": [
    "----\n",
    "\n",
    "### 運用 ThingSpeak收集資料\n",
    "\n",
    "demo\n",
    "\n",
    "----"
   ]
  },
  {
   "cell_type": "code",
   "execution_count": 5,
   "metadata": {},
   "outputs": [
    {
     "data": {
      "text/plain": [
       "<Response [200]>"
      ]
     },
     "execution_count": 5,
     "metadata": {},
     "output_type": "execute_result"
    }
   ],
   "source": [
    "# push data\n",
    "\n",
    "import requests\n",
    "\n",
    "# field1: T\n",
    "# field2: H\n",
    "url = 'https://api.thingspeak.com/update'\n",
    "api_key = 'RD1VBDRERV09LPV4'\n",
    "field1 = 24.58\n",
    "field2 = 63.11\n",
    "data = {'api_key': api_key, 'field1':field1, 'field2':field2}\n",
    "r = requests.get(url, params=data)\n",
    "r"
   ]
  },
  {
   "cell_type": "code",
   "execution_count": 3,
   "metadata": {},
   "outputs": [
    {
     "data": {
      "text/plain": [
       "'0'"
      ]
     },
     "execution_count": 3,
     "metadata": {},
     "output_type": "execute_result"
    }
   ],
   "source": [
    "r.text"
   ]
  },
  {
   "cell_type": "code",
   "execution_count": 7,
   "metadata": {},
   "outputs": [],
   "source": [
    "# continue push data\n",
    "\n",
    "my_h = [65.46, 65.75, 62.49, 65.4, 65.89, 63.11]\n",
    "my_t = [25.05, 24.72, 25.06, 24.66, 24.99, 24.58]"
   ]
  },
  {
   "cell_type": "code",
   "execution_count": 13,
   "metadata": {},
   "outputs": [
    {
     "data": {
      "text/plain": [
       "6"
      ]
     },
     "execution_count": 13,
     "metadata": {},
     "output_type": "execute_result"
    }
   ],
   "source": [
    "len(my_t)"
   ]
  },
  {
   "cell_type": "code",
   "execution_count": 15,
   "metadata": {},
   "outputs": [
    {
     "name": "stdout",
     "output_type": "stream",
     "text": [
      "---- 0 ----\n",
      "H=65.46 %, T=25.05 degree\n",
      "<Response [200]>\n",
      "---- 1 ----\n",
      "H=65.75 %, T=24.72 degree\n",
      "<Response [200]>\n",
      "---- 2 ----\n",
      "H=62.49 %, T=25.06 degree\n",
      "<Response [200]>\n",
      "---- 3 ----\n",
      "H=65.4 %, T=24.66 degree\n",
      "<Response [200]>\n",
      "---- 4 ----\n",
      "H=65.89 %, T=24.99 degree\n",
      "<Response [200]>\n",
      "---- 5 ----\n",
      "H=63.11 %, T=24.58 degree\n",
      "<Response [200]>\n"
     ]
    }
   ],
   "source": [
    "import requests\n",
    "import time\n",
    "\n",
    "for i in range(len(my_t)):\n",
    "    \n",
    "    print('---- %s ----' %(i))\n",
    "    print('H=%s %%, T=%s degree' %(my_h[i], my_t[i]))\n",
    "    \n",
    "    # push data\n",
    "    # field1: T\n",
    "    # field2: H\n",
    "    url = 'https://api.thingspeak.com/update'\n",
    "    api_key = 'RD1VBDRERV09LPV4'\n",
    "    field1 = my_t[i]\n",
    "    field2 = my_h[i]\n",
    "    data = {'api_key': api_key, 'field1':field1, 'field2':field2}\n",
    "    r = requests.get(url, params=data)\n",
    "    print(r)\n",
    "    \n",
    "    time.sleep(15)\n",
    "    "
   ]
  },
  {
   "cell_type": "markdown",
   "metadata": {},
   "source": [
    "----\n",
    "\n",
    "## The End !?\n",
    "\n",
    "----\n"
   ]
  },
  {
   "cell_type": "markdown",
   "metadata": {
    "collapsed": true
   },
   "source": [
    "### 接著就是UI, UX工程師，資料分析工程師的事了!?\n",
    "    \n",
    "資料分析不只是資料分析工程師的事\n"
   ]
  },
  {
   "cell_type": "markdown",
   "metadata": {},
   "source": [
    "### 未來各種AI功能可能都會變成Plug-in的物件\n",
    "\n",
    "舉例來說：\n",
    "\n",
    "- 拼裝車、修車的技士\n",
    "\n",
    "- 電機儀器的維修工程師\n",
    "\n",
    "- 金屬加工機的電控工程師\n",
    "\n",
    "- 未來可能會出現AI調校工程師\n"
   ]
  },
  {
   "cell_type": "markdown",
   "metadata": {},
   "source": [
    "----\n",
    "\n",
    "## Q&A\n",
    "\n",
    "----"
   ]
  }
 ],
 "metadata": {
  "kernelspec": {
   "display_name": "Python 3",
   "language": "python",
   "name": "python3"
  },
  "language_info": {
   "codemirror_mode": {
    "name": "ipython",
    "version": 3
   },
   "file_extension": ".py",
   "mimetype": "text/x-python",
   "name": "python",
   "nbconvert_exporter": "python",
   "pygments_lexer": "ipython3",
   "version": "3.6.5"
  }
 },
 "nbformat": 4,
 "nbformat_minor": 2
}
